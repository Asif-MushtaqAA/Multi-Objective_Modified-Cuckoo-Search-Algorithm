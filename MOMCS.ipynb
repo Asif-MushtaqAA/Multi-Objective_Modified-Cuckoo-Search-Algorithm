{
 "cells": [
  {
   "cell_type": "code",
   "execution_count": null,
   "id": "934fbe5f",
   "metadata": {},
   "outputs": [],
   "source": [
    "MOMCS - ZDT 1, 2 and 3"
   ]
  },
  {
   "cell_type": "code",
   "execution_count": null,
   "id": "5ab40ec9",
   "metadata": {
    "tags": []
   },
   "outputs": [],
   "source": [
    "import numpy as np\n",
    "import os\n",
    "import sys\n",
    "import random\n",
    "import time\n",
    "import matplotlib.pyplot as plt\n",
    "import seaborn as sns\n",
    "import pandas as pd\n",
    "from scipy.special import gamma\n"
   ]
  },
  {
   "cell_type": "code",
   "execution_count": null,
   "id": "ffd63197",
   "metadata": {},
   "outputs": [],
   "source": [
    "def zdt1(x):\n",
    "    \"\"\"Evaluate ZDT1 objectives.\"\"\"\n",
    "    n = len(x)\n",
    "    f1 = x[0]\n",
    "    g = 1 + 9 * np.sum(x[1:]) / (n - 1)\n",
    "    f2 = g * (1 - np.sqrt(f1 / g))\n",
    "    return [f1, f2]\n"
   ]
  },
  {
   "cell_type": "code",
   "execution_count": null,
   "id": "b8652ab3",
   "metadata": {},
   "outputs": [],
   "source": [
    "def zdt2(x):\n",
    "    \"\"\"Evaluate ZDT2 objectives.\"\"\"\n",
    "    n = len(x)\n",
    "    f1 = x[0]\n",
    "    g = 1 + 9 * np.sum(x[1:]) / (n - 1)\n",
    "    f2 = g * (1 - (f1 / g) ** 2)\n",
    "    return [f1, f2]\n"
   ]
  },
  {
   "cell_type": "code",
   "execution_count": null,
   "id": "4648b8c6",
   "metadata": {
    "tags": []
   },
   "outputs": [],
   "source": [
    "def zdt3(x):\n",
    "    \"\"\"Evaluate ZDT3 objectives.\"\"\"\n",
    "    n = len(x)\n",
    "    f1 = x[0]\n",
    "    g = 1 + 9 * np.sum(x[1:]) / (n - 1)\n",
    "    f2 = g * (1 - np.sqrt(f1 / g) - (f1 / g) * np.sin(10 * np.pi * f1))\n",
    "    return [f1, f2]\n"
   ]
  },
  {
   "cell_type": "code",
   "execution_count": null,
   "id": "8002af3f",
   "metadata": {
    "tags": []
   },
   "outputs": [],
   "source": [
    "def dominates_pair(obj_a, obj_b):\n",
    "    \"\"\"Returns True if obj_a dominates obj_b.\"\"\"\n",
    "    return (obj_a[0] < obj_b[0] and obj_a[1] <= obj_b[1]) or \\\n",
    "           (obj_a[0] <= obj_b[0] and obj_a[1] < obj_b[1])\n"
   ]
  },
  {
   "cell_type": "code",
   "execution_count": null,
   "id": "a2a2908a",
   "metadata": {
    "tags": []
   },
   "outputs": [],
   "source": [
    "def initialize_population(num_nests, bounds):\n",
    "    \"\"\"Initialize nests with random values.\"\"\"\n",
    "    return np.random.uniform(low=bounds[:, 0], high=bounds[:, 1], size=(num_nests, bounds.shape[0]))\n",
    "\n",
    "def evaluate_population(population):\n",
    "    \"\"\"Evaluate fitness values for a population.\"\"\"\n",
    "    return np.array([zdt1(individual) for individual in population])\n"
   ]
  },
  {
   "cell_type": "code",
   "execution_count": null,
   "id": "e0992b64",
   "metadata": {
    "tags": []
   },
   "outputs": [],
   "source": [
    "def calculate_crowding_distance(front):\n",
    "    \"\"\"Calculate crowding distance for each individual in a Pareto front.\"\"\"\n",
    "    if len(front) == 0:\n",
    "        return []\n",
    "    \n",
    "    num_objectives = len(front[0])\n",
    "    distances = np.zeros(len(front))\n",
    "    front_size = len(front)\n",
    "    \n",
    "    # Convert the front to a numpy array for easier manipulation\n",
    "    front_array = np.array(front)\n",
    "    \n",
    "    for i in range(num_objectives):\n",
    "        # Sort indices based on the current objective\n",
    "        sorted_indices = np.argsort(front_array[:, i])\n",
    "        distances[sorted_indices[0]] = distances[sorted_indices[-1]] = np.inf\n",
    "        min_obj = front_array[sorted_indices[0], i]\n",
    "        max_obj = front_array[sorted_indices[-1], i]\n",
    "        \n",
    "        if max_obj == min_obj:\n",
    "            # If all values are the same for this objective, skip distance calculation\n",
    "            continue\n",
    "        \n",
    "        for j in range(1, front_size - 1):\n",
    "            distances[sorted_indices[j]] += (front_array[sorted_indices[j + 1], i] - front_array[sorted_indices[j - 1], i]) / (max_obj - min_obj)\n",
    "    \n",
    "    return distances\n"
   ]
  },
  {
   "cell_type": "code",
   "execution_count": null,
   "id": "aac12c45",
   "metadata": {
    "tags": []
   },
   "outputs": [],
   "source": [
    "def levy_flight(size, beta=1.5):\n",
    "    \"\"\"Generate Lévy flight step.\"\"\"\n",
    "    sigma_u = (gamma(1 + beta) * np.sin(np.pi * beta / 2) / (gamma((1 + beta) / 2) * beta * 2 ** ((beta - 1) / 2))) ** (1 / beta)\n",
    "    u = np.random.normal(0, sigma_u, size=size)\n",
    "    v = np.random.normal(0, 1, size=size)\n",
    "    step = u / (np.abs(v) ** (1 / beta))\n",
    "    return step\n"
   ]
  },
  {
   "cell_type": "code",
   "execution_count": null,
   "id": "6c8b68de",
   "metadata": {
    "tags": []
   },
   "outputs": [],
   "source": [
    "def efficient_non_dominated_sort(objective_values):\n",
    "    num_individuals = len(objective_values)\n",
    "    dominated_count = np.zeros(num_individuals, dtype=int)\n",
    "    dominates = [set() for _ in range(num_individuals)]\n",
    "    \n",
    "    for i in range(num_individuals):\n",
    "        for j in range(i + 1, num_individuals):\n",
    "            if dominates_pair(objective_values[i], objective_values[j]):\n",
    "                dominates[i].add(j)\n",
    "                dominated_count[j] += 1\n",
    "            elif dominates_pair(objective_values[j], objective_values[i]):\n",
    "                dominates[j].add(i)\n",
    "                dominated_count[i] += 1\n",
    "    \n",
    "    fronts = []\n",
    "    current_front = np.where(dominated_count == 0)[0].tolist()\n",
    "    \n",
    "    while current_front:\n",
    "        fronts.append(current_front)\n",
    "        next_front = []\n",
    "        for i in current_front:\n",
    "            for j in dominates[i]:\n",
    "                dominated_count[j] -= 1\n",
    "                if dominated_count[j] == 0:\n",
    "                    next_front.append(j)\n",
    "        current_front = next_front\n",
    "    \n",
    "    return fronts\n"
   ]
  },
  {
   "cell_type": "code",
   "execution_count": null,
   "id": "9ded8ac7",
   "metadata": {
    "tags": []
   },
   "outputs": [],
   "source": [
    "def run_momcs(num_nests, max_evaluations, A, phi, bounds):\n",
    "    num_objectives = 2  # For ZDT1\n",
    "    num_dimensions = bounds.shape[0]\n",
    "    population = initialize_population(num_nests, bounds)\n",
    "    objective_values = evaluate_population(population)\n",
    "    num_evaluations = num_nests\n",
    "    generation = 1\n",
    "    \n",
    "    pareto_optimal = []\n",
    "    pareto_front = []\n",
    "    optimisation_archive = []\n",
    "    \n",
    "    while num_evaluations < max_evaluations:\n",
    "        # Non-dominated sorting and crowding distance calculation\n",
    "        fronts = efficient_non_dominated_sort(objective_values)\n",
    "        \n",
    "        pareto_optimal.append((population[i], objective_values[i]) for i in fronts[0])\n",
    "        pareto_front.extend(np.array(objective_values[i]) for i in fronts[0])\n",
    "        \n",
    "        sorted_nests = []\n",
    "        sorted_objectives = []\n",
    "        \n",
    "        for front in fronts:\n",
    "            front_nests = [population[i] for i in front]\n",
    "            front_objectives = [objective_values[i] for i in front]\n",
    "            distances = calculate_crowding_distance(front_objectives)\n",
    "            \n",
    "            # Sort the front by crowding distance in descending order\n",
    "            sorted_indices = np.argsort(distances)[::-1]\n",
    "            sorted_nests.extend(np.array(front_nests)[sorted_indices])\n",
    "            sorted_objectives.extend(np.array(front_objectives)[sorted_indices])\n",
    "        \n",
    "        optimisation_archive.append((sorted_nests, sorted_objectives))\n",
    "        \n",
    "        # Abandon bottom 20% of nests\n",
    "        n_abandon = int(0.2 * num_nests)\n",
    "        for i in range(n_abandon):\n",
    "            xi = sorted_nests[-(i + 1)]  # Select the nest to be abandoned\n",
    "            alpha = A / np.cbrt(generation)  # Lévy flight step size\n",
    "            step = levy_flight(num_dimensions)\n",
    "            xk = xi + alpha * step  # New egg via Lévy flight\n",
    "            xk = np.clip(xk, bounds[:, 0], bounds[:, 1])\n",
    "            obj_values = zdt1(xk)\n",
    "            \n",
    "            sorted_nests[-(i + 1)] = xk\n",
    "            sorted_objectives[-(i + 1)] = obj_values\n",
    "            num_evaluations += 1\n",
    "        \n",
    "        # Refinement of top nests\n",
    "        n_top = num_nests - n_abandon\n",
    "        for i in range(n_top):\n",
    "            xi = sorted_nests[i]\n",
    "            xj_index = np.random.choice(n_top)\n",
    "            xj = sorted_nests[xj_index]\n",
    "            \n",
    "            if np.array_equal(xi, xj):\n",
    "                alpha = A / (generation**2)  # Lévy flight step size for same nest\n",
    "                step = levy_flight(num_dimensions)\n",
    "                xk = xi + alpha * step\n",
    "                xk = np.clip(xk, bounds[:, 0], bounds[:, 1])\n",
    "            else:\n",
    "                dx = np.abs(np.array(xi) - np.array(xj)) / phi\n",
    "                objective_xi = sorted_objectives[i]\n",
    "                objective_xj = sorted_objectives[xj_index]\n",
    "                \n",
    "                if dominates_pair(objective_xi, objective_xj):\n",
    "                    xk = np.array(xj) + dx * np.sign(np.array(xi) - np.array(xj))\n",
    "                elif dominates_pair(objective_xj, objective_xi):\n",
    "                    xk = np.array(xi) + dx * np.sign(np.array(xj) - np.array(xi))\n",
    "                else:\n",
    "                    alpha = A / np.sqrt(generation) \n",
    "                    step = levy_flight(num_dimensions)\n",
    "                    xk = xi + alpha * step\n",
    "                \n",
    "                xk = np.clip(xk, bounds[:, 0], bounds[:, 1])\n",
    "            \n",
    "            obj_values = zdt1(xk)\n",
    "            l = np.random.choice(num_nests)\n",
    "            objective_l = sorted_objectives[l]\n",
    "            \n",
    "            if dominates_pair(obj_values, objective_l):\n",
    "                sorted_nests[l] = xk\n",
    "                sorted_objectives[l] = obj_values\n",
    "            \n",
    "            num_evaluations += 1\n",
    "        \n",
    "        # Update the population and objective values\n",
    "        population = sorted_nests\n",
    "        objective_values = sorted_objectives\n",
    "        generation += 1\n",
    "        \n",
    "    return sorted_nests, sorted_objectives, generation, pareto_optimal, pareto_front, optimisation_archive\n"
   ]
  },
  {
   "cell_type": "code",
   "execution_count": null,
   "id": "4b2ebb8f",
   "metadata": {},
   "outputs": [],
   "source": [
    "def generate_zdt1_pareto_front():\n",
    "    \"\"\"Generate the original Pareto front for ZDT1.\"\"\"\n",
    "    x = np.linspace(0, 1, 2000)\n",
    "    f1 = x\n",
    "    f2 = 1 - np.sqrt(f1)\n",
    "    return f1, f2"
   ]
  },
  {
   "cell_type": "code",
   "execution_count": null,
   "id": "faaa6f98",
   "metadata": {},
   "outputs": [],
   "source": [
    "def generate_zdt2_pareto_front():\n",
    "    \"\"\"Generate the original Pareto front for ZDT2.\"\"\"\n",
    "    x = np.linspace(0, 1, 2000)\n",
    "    f1 = x\n",
    "    f2 = 1 - f1**2\n",
    "    return f1, f2"
   ]
  },
  {
   "cell_type": "code",
   "execution_count": null,
   "id": "9423429c",
   "metadata": {
    "tags": []
   },
   "outputs": [],
   "source": [
    "def generate_zdt3_pareto_front():\n",
    "    \"\"\"Generate the original Pareto front for ZDT3.\"\"\"\n",
    "    # Define the discontinuous segments\n",
    "    segments = [\n",
    "        (0.0, 0.0830015349),\n",
    "        (0.1822287280, 0.2577623634),\n",
    "        (0.4093136748, 0.4538821041),\n",
    "        (0.6183967944, 0.6525117038),\n",
    "        (0.8233317983, 0.8518328654),\n",
    "    ]\n",
    "\n",
    "    f1 = []\n",
    "    f2 = []\n",
    "\n",
    "    for (start, end) in segments:\n",
    "        x = np.linspace(start, end, 400)  # Increase granularity for each segment\n",
    "        f1.extend(x)\n",
    "        f2.extend(1 - np.sqrt(x) - x * np.sin(10 * np.pi * x))\n",
    "\n",
    "    return np.array(f1), np.array(f2)\n"
   ]
  },
  {
   "cell_type": "code",
   "execution_count": null,
   "id": "3559983f",
   "metadata": {
    "tags": []
   },
   "outputs": [],
   "source": [
    "def plot_pareto_front(best_fitness, original_pareto_front, title=\"Pareto Front Comparison\"):\n",
    "    \"\"\"Plot the Pareto front for a set of objective values.\"\"\"\n",
    "    best_fitness = np.array(best_fitness)\n",
    "    original_f1, original_f2 = original_pareto_front\n",
    "    \n",
    "    plt.figure(figsize=(10, 6))\n",
    "    plt.scatter(best_fitness[:, 0], best_fitness[:, 1], color='blue', s=50, alpha=0.7, label='MOMCS Solutions')\n",
    "    plt.plot(original_f1, original_f2, color='red', linewidth=2, label='Original Pareto Front (ZDT1)')\n",
    "    plt.title(title)\n",
    "    plt.xlabel('f1')\n",
    "    plt.ylabel('f2')\n",
    "    plt.legend()\n",
    "    plt.ylim(-1,1)\n",
    "    #plt.xlim(0,1)\n",
    "    #plt.grid(True)\n",
    "    plt.show()\n",
    "    "
   ]
  },
  {
   "cell_type": "code",
   "execution_count": null,
   "id": "fe02f80d",
   "metadata": {
    "tags": []
   },
   "outputs": [],
   "source": [
    "\"\"\"For ZDT3 Only\"\"\"\n",
    "def plot_pareto_front(best_fitness, original_pareto_front, title=\"Pareto Front Comparison\"):\n",
    "    \"\"\"Plot the Pareto front for a set of objective values.\"\"\"\n",
    "    best_fitness = np.array(best_fitness)\n",
    "    original_f1, original_f2 = original_pareto_front\n",
    "    \n",
    "    plt.figure(figsize=(10, 6))\n",
    "    plt.scatter(best_fitness[:, 0], best_fitness[:, 1], color='blue', s=50, alpha=0.7, label='MOMCS Solutions')\n",
    "    \n",
    "    # Plot each segment separately\n",
    "    segments = [\n",
    "        (0.0, 0.0830015349),\n",
    "        (0.1822287280, 0.2577623634),\n",
    "        (0.4093136748, 0.4538821041),\n",
    "        (0.6183967944, 0.6525117038),\n",
    "        (0.8233317983, 0.8518328654),\n",
    "    ]\n",
    "    \n",
    "    for start, end in segments:\n",
    "        x = np.linspace(start, end, 400)\n",
    "        y = 1 - np.sqrt(x) - x * np.sin(10 * np.pi * x)\n",
    "        plt.plot(x, y, color='red', linewidth=2)\n",
    "    \n",
    "    plt.title(title)\n",
    "    plt.xlabel('f1')\n",
    "    plt.ylabel('f2')\n",
    "    plt.legend()\n",
    "    plt.ylim(-1,1)\n",
    "    #plt.xlim(0,1)\n",
    "    #plt.grid(True)\n",
    "    plt.show()\n"
   ]
  },
  {
   "cell_type": "code",
   "execution_count": null,
   "id": "fa6a453e",
   "metadata": {},
   "outputs": [],
   "source": [
    "start_total = time.time()\n",
    "\n",
    "num_nests = 50\n",
    "max_evaluations = 2500000\n",
    "A = 1\n",
    "phi = (1 + np.sqrt(5)) / 2\n",
    "bounds = np.array([[0, 1]] * 30)  # ZDT1 has 30 dimensions\n",
    "\n",
    "best_nests, best_fitness, generation, pareto_optimal, pareto_front, optimisation_archive = run_momcs(num_nests, max_evaluations, A, phi, bounds)\n",
    "print(generation)\n",
    "\n",
    "# Total execution time\n",
    "end_total = time.time()\n",
    "elapsed_total = end_total - start_total\n",
    "print(f'Total time taken for optimisation: {elapsed_total:.2f} seconds')\n"
   ]
  },
  {
   "cell_type": "code",
   "execution_count": null,
   "id": "a5e842c6",
   "metadata": {},
   "outputs": [],
   "source": [
    "def efficient_non_dominated_sort_first_front(objective_values):\n",
    "    num_individuals = len(objective_values)\n",
    "    dominated_count = np.zeros(num_individuals, dtype=int)\n",
    "    dominates = [set() for _ in range(num_individuals)]\n",
    "\n",
    "    # Loop to find all dominances\n",
    "    for i in range(num_individuals):\n",
    "        for j in range(i + 1, num_individuals):\n",
    "            if dominates_pair(objective_values[i], objective_values[j]):\n",
    "                dominates[i].add(j)\n",
    "                dominated_count[j] += 1\n",
    "            elif dominates_pair(objective_values[j], objective_values[i]):\n",
    "                dominates[j].add(i)\n",
    "                dominated_count[i] += 1\n",
    "\n",
    "    # Identify the first front\n",
    "    first_front = np.where(dominated_count == 0)[0].tolist()\n",
    "    \n",
    "    # Return only the first front\n",
    "    return [first_front]\n"
   ]
  },
  {
   "cell_type": "code",
   "execution_count": null,
   "id": "29cb016f",
   "metadata": {},
   "outputs": [],
   "source": [
    "best_fitness_front = []\n",
    "pareto_front_front = []\n",
    "# Non-dominated sorting and crowding distance calculation\n",
    "fronts = efficient_non_dominated_sort_first_front(best_fitness)\n",
    "best_fitness_front.extend(np.array(best_fitness[i]) for i in fronts[0])\n"
   ]
  },
  {
   "cell_type": "code",
   "execution_count": null,
   "id": "c15f18d7",
   "metadata": {},
   "outputs": [],
   "source": [
    "# Generate the original Pareto front\n",
    "original_pareto_front = generate_zdt1_pareto_front()\n",
    "\n",
    "# Plot the results\n",
    "plot_pareto_front(pareto_front, original_pareto_front)\n"
   ]
  },
  {
   "cell_type": "code",
   "execution_count": null,
   "id": "6a30f0df",
   "metadata": {},
   "outputs": [],
   "source": [
    "# Generate the original Pareto front\n",
    "original_pareto_front = generate_zdt1_pareto_front()\n",
    "\n",
    "# Plot the results\n",
    "plot_pareto_front(best_fitness, original_pareto_front)\n"
   ]
  },
  {
   "cell_type": "code",
   "execution_count": null,
   "id": "28889cc2",
   "metadata": {},
   "outputs": [],
   "source": [
    "# Generate the original Pareto front\n",
    "original_pareto_front = generate_zdt1_pareto_front()\n",
    "\n",
    "# Plot the results\n",
    "plot_pareto_front(best_fitness_front, original_pareto_front)\n"
   ]
  },
  {
   "cell_type": "code",
   "execution_count": null,
   "id": "61c21824",
   "metadata": {},
   "outputs": [],
   "source": [
    "# Extract all objective values\n",
    "all_objective_values = []\n",
    "for _, objectives in optimisation_archive:\n",
    "    all_objective_values.extend(objectives)\n",
    "\n",
    "# Convert to numpy array for convenience\n",
    "all_objective_values = np.array(all_objective_values)\n",
    "\n",
    "# Separate objectives into x and y\n",
    "objective1 = all_objective_values[:, 0]\n",
    "objective2 = all_objective_values[:, 1]\n",
    "\n",
    "# Plot\n",
    "plt.figure(figsize=(10, 6))\n",
    "plt.scatter(objective1, objective2, c='b', marker='o', alpha=0.4)\n",
    "plt.xlabel('Objective 1')\n",
    "plt.ylabel('Objective 2')\n",
    "plt.title('Objective 1 vs Objective 2')\n",
    "plt.grid(True)\n",
    "plt.show()\n"
   ]
  },
  {
   "cell_type": "code",
   "execution_count": null,
   "id": "c115fd8e",
   "metadata": {},
   "outputs": [],
   "source": [
    "true_front = np.array(original_pareto_front).T  # shape (2000, 2)\n",
    "momcs_front = np.array(best_fitness_front)  # shape (num_solutions, 2)\n",
    "ref_point = [1.1, 1.1]  # Reference point slightly larger than the max values in objective space\n",
    "\n",
    "from deap.tools._hypervolume import hv\n",
    "\n",
    "def calculate_hv(front, ref_point):\n",
    "    \"\"\"Calculate the hypervolume of a front given a reference point.\"\"\"\n",
    "    return hv.hypervolume(front, ref_point)\n",
    "\n",
    "# Define reference point\n",
    "ref_point = [1.1, 1.1]  # Slightly larger than the maximum expected values in the objectives\n",
    "\n",
    "# Calculate HV for the true front and the MOMCS front\n",
    "true_hv = calculate_hv(true_front, ref_point)\n",
    "momcs_hv = calculate_hv(momcs_front, ref_point)\n",
    "\n",
    "print(f\"Hypervolume of True Pareto Front: {true_hv}\")\n",
    "print(f\"Hypervolume of MOMCS Pareto Front: {momcs_hv}\")"
   ]
  },
  {
   "cell_type": "code",
   "execution_count": null,
   "id": "eade94d3",
   "metadata": {},
   "outputs": [],
   "source": [
    "def generational_distance(obtained_front, true_front):\n",
    "    distances = []\n",
    "    for point in obtained_front:\n",
    "        min_dist = np.min(np.linalg.norm(true_front - point, axis=1))\n",
    "        distances.append(min_dist)\n",
    "    gd = np.sqrt(np.mean(np.square(distances)))\n",
    "    return gd\n",
    "\n",
    "gd = generational_distance(momcs_front, true_front)\n",
    "print(f\"Generational Distance (GD): {gd}\")"
   ]
  },
  {
   "cell_type": "code",
   "execution_count": null,
   "id": "e09f0546",
   "metadata": {},
   "outputs": [],
   "source": []
  }
 ],
 "metadata": {
  "kaggle": {
   "accelerator": "none",
   "dataSources": [],
   "dockerImageVersionId": 30746,
   "isGpuEnabled": false,
   "isInternetEnabled": true,
   "language": "python",
   "sourceType": "notebook"
  },
  "kernelspec": {
   "display_name": "Python 3 (ipykernel)",
   "language": "python",
   "name": "python3"
  },
  "language_info": {
   "codemirror_mode": {
    "name": "ipython",
    "version": 3
   },
   "file_extension": ".py",
   "mimetype": "text/x-python",
   "name": "python",
   "nbconvert_exporter": "python",
   "pygments_lexer": "ipython3",
   "version": "3.9.7"
  }
 },
 "nbformat": 4,
 "nbformat_minor": 5
}
